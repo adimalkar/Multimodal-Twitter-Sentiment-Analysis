{
  "nbformat": 4,
  "nbformat_minor": 0,
  "metadata": {
    "colab": {
      "provenance": [],
      "machine_shape": "hm",
      "gpuType": "V28"
    },
    "kernelspec": {
      "name": "python3",
      "display_name": "Python 3"
    },
    "language_info": {
      "name": "python"
    },
    "accelerator": "TPU"
  },
  "cells": [
    {
      "cell_type": "code",
      "source": [
        "from google.colab import drive\n",
        "drive.mount('/content/drive')"
      ],
      "metadata": {
        "colab": {
          "base_uri": "https://localhost:8080/"
        },
        "id": "fbmQEFL0Nbge",
        "outputId": "22ad9e0d-6b1f-4f23-a44f-11fb05fab90d"
      },
      "execution_count": null,
      "outputs": [
        {
          "output_type": "stream",
          "name": "stdout",
          "text": [
            "Drive already mounted at /content/drive; to attempt to forcibly remount, call drive.mount(\"/content/drive\", force_remount=True).\n"
          ]
        }
      ]
    },
    {
      "cell_type": "code",
      "source": [
        "import pandas as pd\n",
        "import numpy as np\n",
        "import matplotlib.pyplot as plt\n",
        "import seaborn as sns\n",
        "import re\n",
        "import nltk\n",
        "from nltk.corpus import stopwords\n",
        "from nltk.stem import SnowballStemmer\n",
        "from tensorflow.keras.preprocessing.text import Tokenizer\n",
        "from sklearn.preprocessing import LabelEncoder\n",
        "from sklearn.impute import SimpleImputer\n",
        "from sklearn.model_selection import train_test_split\n",
        "from sklearn.preprocessing import StandardScaler\n",
        "from sklearn.feature_extraction.text import TfidfVectorizer\n",
        "from tensorflow.keras.preprocessing.sequence import pad_sequences\n",
        "from tensorflow.keras.layers import Embedding"
      ],
      "metadata": {
        "id": "vnD1jsfFNN93"
      },
      "execution_count": null,
      "outputs": []
    },
    {
      "cell_type": "code",
      "source": [
        "# Load the dataset\n",
        "file_path = '/content/drive/My Drive/Dataset/tweets.csv'\n",
        "df = pd.read_csv(file_path, encoding='latin-1', header=None)  # adjust encoding if necessary\n",
        "\n",
        "# Since the dataset may not have headers, let's define them based on typical tweet datasets.\n",
        "# Adjust these if you have specific headers:\n",
        "df.columns = ['target', 'id', 'date', 'flag', 'user', 'text']\n",
        "\n",
        "# Initial Data Exploration\n",
        "print(\"Dataset Head:\")\n",
        "print(df.head())\n",
        "\n",
        "print(\"\\nDataset Info:\")\n",
        "print(df.info())\n",
        "\n",
        "print(\"\\nDataset Description (Numerical Columns):\")\n",
        "print(df.describe())\n",
        "\n",
        "# Class Balance Check\n",
        "print(\"\\nClass Balance (Sentiment Labels):\")\n",
        "print(df['target'].value_counts())"
      ],
      "metadata": {
        "colab": {
          "base_uri": "https://localhost:8080/"
        },
        "id": "AO7QBgPdNS-2",
        "outputId": "d0c711ae-af9d-4223-bd5c-2c6241202065"
      },
      "execution_count": null,
      "outputs": [
        {
          "output_type": "stream",
          "name": "stdout",
          "text": [
            "Dataset Head:\n",
            "   target          id                          date      flag  \\\n",
            "0       0  1467810369  Mon Apr 06 22:19:45 PDT 2009  NO_QUERY   \n",
            "1       0  1467810672  Mon Apr 06 22:19:49 PDT 2009  NO_QUERY   \n",
            "2       0  1467810917  Mon Apr 06 22:19:53 PDT 2009  NO_QUERY   \n",
            "3       0  1467811184  Mon Apr 06 22:19:57 PDT 2009  NO_QUERY   \n",
            "4       0  1467811193  Mon Apr 06 22:19:57 PDT 2009  NO_QUERY   \n",
            "\n",
            "              user                                               text  \n",
            "0  _TheSpecialOne_  @switchfoot http://twitpic.com/2y1zl - Awww, t...  \n",
            "1    scotthamilton  is upset that he can't update his Facebook by ...  \n",
            "2         mattycus  @Kenichan I dived many times for the ball. Man...  \n",
            "3          ElleCTF    my whole body feels itchy and like its on fire   \n",
            "4           Karoli  @nationwideclass no, it's not behaving at all....  \n",
            "\n",
            "Dataset Info:\n",
            "<class 'pandas.core.frame.DataFrame'>\n",
            "RangeIndex: 1600000 entries, 0 to 1599999\n",
            "Data columns (total 6 columns):\n",
            " #   Column  Non-Null Count    Dtype \n",
            "---  ------  --------------    ----- \n",
            " 0   target  1600000 non-null  int64 \n",
            " 1   id      1600000 non-null  int64 \n",
            " 2   date    1600000 non-null  object\n",
            " 3   flag    1600000 non-null  object\n",
            " 4   user    1600000 non-null  object\n",
            " 5   text    1600000 non-null  object\n",
            "dtypes: int64(2), object(4)\n",
            "memory usage: 73.2+ MB\n",
            "None\n",
            "\n",
            "Dataset Description (Numerical Columns):\n",
            "             target            id\n",
            "count  1.600000e+06  1.600000e+06\n",
            "mean   2.000000e+00  1.998818e+09\n",
            "std    2.000001e+00  1.935761e+08\n",
            "min    0.000000e+00  1.467810e+09\n",
            "25%    0.000000e+00  1.956916e+09\n",
            "50%    2.000000e+00  2.002102e+09\n",
            "75%    4.000000e+00  2.177059e+09\n",
            "max    4.000000e+00  2.329206e+09\n",
            "\n",
            "Class Balance (Sentiment Labels):\n",
            "target\n",
            "0    800000\n",
            "4    800000\n",
            "Name: count, dtype: int64\n"
          ]
        }
      ]
    },
    {
      "cell_type": "code",
      "source": [
        "# Download NLTK resources if not already downloaded\n",
        "nltk.download('stopwords')\n",
        "\n",
        "# Text Cleaning Function\n",
        "def clean_text(text):\n",
        "    # Remove URLs\n",
        "    text = re.sub(r'http\\S+|www\\S+|https\\S+', '', text, flags=re.MULTILINE)\n",
        "    # Remove special characters and punctuation\n",
        "    text = re.sub(r'\\W', ' ', text)\n",
        "    # Lowercase the text\n",
        "    text = text.lower()\n",
        "    return text\n",
        "\n",
        "# Apply text cleaning\n",
        "df['cleaned_text'] = df['text'].apply(clean_text)\n",
        "\n",
        "# Stop Words Removal\n",
        "stop_words = set(stopwords.words('english'))\n",
        "df['cleaned_text'] = df['cleaned_text'].apply(lambda x: ' '.join([word for word in x.split() if word not in stop_words]))\n",
        "\n",
        "# Stemming\n",
        "stemmer = SnowballStemmer(\"english\")\n",
        "df['cleaned_text'] = df['cleaned_text'].apply(lambda x: ' '.join([stemmer.stem(word) for word in x.split()]))\n",
        "\n",
        "# Tokenization using Keras Tokenizer\n",
        "tokenizer = Tokenizer()\n",
        "tokenizer.fit_on_texts(df['cleaned_text'])\n",
        "df['text_sequences'] = tokenizer.texts_to_sequences(df['cleaned_text'])\n",
        "\n",
        "# Inspect the result\n",
        "print(\"\\nCleaned and Tokenized Text Sample:\")\n",
        "print(df[['text', 'cleaned_text', 'text_sequences']].head())"
      ],
      "metadata": {
        "colab": {
          "base_uri": "https://localhost:8080/"
        },
        "id": "l5NnQzwGcSzu",
        "outputId": "359ce1ce-4175-402f-b2c4-07cc255694e6"
      },
      "execution_count": null,
      "outputs": [
        {
          "output_type": "stream",
          "name": "stderr",
          "text": [
            "[nltk_data] Downloading package stopwords to /root/nltk_data...\n",
            "[nltk_data]   Unzipping corpora/stopwords.zip.\n"
          ]
        },
        {
          "output_type": "stream",
          "name": "stdout",
          "text": [
            "\n",
            "Cleaned and Tokenized Text Sample:\n",
            "                                                text  \\\n",
            "0  @switchfoot http://twitpic.com/2y1zl - Awww, t...   \n",
            "1  is upset that he can't update his Facebook by ...   \n",
            "2  @Kenichan I dived many times for the ball. Man...   \n",
            "3    my whole body feels itchy and like its on fire    \n",
            "4  @nationwideclass no, it's not behaving at all....   \n",
            "\n",
            "                                        cleaned_text  \\\n",
            "0  switchfoot bummer shoulda got david carr third...   \n",
            "1  upset updat facebook text might cri result sch...   \n",
            "2  kenichan dive mani time ball manag save 50 res...   \n",
            "3                    whole bodi feel itchi like fire   \n",
            "4                      nationwideclass behav mad see   \n",
            "\n",
            "                                      text_sequences  \n",
            "0        [15967, 1061, 3153, 11, 643, 7737, 1709, 3]  \n",
            "1  [612, 224, 437, 364, 208, 238, 1004, 77, 9, 19...  \n",
            "2  [22601, 3750, 230, 10, 850, 717, 516, 980, 355...  \n",
            "3                       [345, 662, 21, 2616, 6, 873]  \n",
            "4                             [29142, 4182, 458, 20]  \n"
          ]
        }
      ]
    },
    {
      "cell_type": "code",
      "source": [
        "# --- TF-IDF Vectorization ---\n",
        "# Initialize TfidfVectorizer\n",
        "tfidf_vectorizer = TfidfVectorizer(max_features=5000)  # Limit features to top 5000 terms\n",
        "\n",
        "# Fit and transform the cleaned text\n",
        "tfidf_features = tfidf_vectorizer.fit_transform(df['cleaned_text']).toarray()\n",
        "\n",
        "# Print shape to verify\n",
        "print(\"\\nTF-IDF Features Shape:\", tfidf_features.shape)\n",
        "\n",
        "# --- Word Embeddings (Using GloVe or Word2Vec) ---\n",
        "# Load pre-trained GloVe embeddings\n",
        "embedding_index = {}\n",
        "embedding_dim = 100  # Adjust to 50, 100, 200, or 300 based on GloVe model\n",
        "\n",
        "# Make sure to download the GloVe embeddings separately if not available locally\n",
        "glove_file_path = '/content/drive/My Drive/Dataset/glove.6B.100d.txt'  # Update to the correct path\n",
        "with open(glove_file_path, 'r', encoding='utf-8') as file:\n",
        "    for line in file:\n",
        "        values = line.split()\n",
        "        word = values[0]\n",
        "        coefficients = np.array(values[1:], dtype='float32')\n",
        "        embedding_index[word] = coefficients\n",
        "\n",
        "# Prepare embedding matrix\n",
        "tokenizer = Tokenizer(num_words=5000)  # Limit vocabulary to top 5000 words\n",
        "tokenizer.fit_on_texts(df['cleaned_text'])\n",
        "sequences = tokenizer.texts_to_sequences(df['cleaned_text'])\n",
        "word_index = tokenizer.word_index\n",
        "padded_sequences = pad_sequences(sequences, maxlen=100)  # Pad sequences for uniform length\n",
        "\n",
        "vocab_size = min(5000, len(word_index)) + 1\n",
        "embedding_matrix = np.zeros((vocab_size, embedding_dim))\n",
        "for word, i in word_index.items():\n",
        "    if i < 5000:\n",
        "        embedding_vector = embedding_index.get(word)\n",
        "        if embedding_vector is not None:\n",
        "            embedding_matrix[i] = embedding_vector\n",
        "\n",
        "# Define an Embedding layer without the input_length argument\n",
        "embedding_layer = Embedding(input_dim=vocab_size, output_dim=embedding_dim,\n",
        "                            weights=[embedding_matrix], trainable=False)\n",
        "\n",
        "# Print sample sequences to verify\n",
        "print(\"\\nSample Padded Sequence:\")\n",
        "print(padded_sequences[0])"
      ],
      "metadata": {
        "id": "aXP9FMAfd2hV",
        "colab": {
          "base_uri": "https://localhost:8080/"
        },
        "outputId": "e42d2bc2-2275-4866-8fba-c9527282e35f"
      },
      "execution_count": null,
      "outputs": [
        {
          "output_type": "stream",
          "name": "stdout",
          "text": [
            "\n",
            "TF-IDF Features Shape: (1600000, 5000)\n",
            "\n",
            "Sample Padded Sequence:\n",
            "[   0    0    0    0    0    0    0    0    0    0    0    0    0    0\n",
            "    0    0    0    0    0    0    0    0    0    0    0    0    0    0\n",
            "    0    0    0    0    0    0    0    0    0    0    0    0    0    0\n",
            "    0    0    0    0    0    0    0    0    0    0    0    0    0    0\n",
            "    0    0    0    0    0    0    0    0    0    0    0    0    0    0\n",
            "    0    0    0    0    0    0    0    0    0    0    0    0    0    0\n",
            "    0    0    0    0    0    0    0    0    0    0 1061 3153   11  643\n",
            " 1709    3]\n"
          ]
        }
      ]
    },
    {
      "cell_type": "code",
      "source": [
        "# # Assuming we want to use the TF-IDF features for traditional ML models\n",
        "# X_tfidf = tfidf_features\n",
        "# y = df['target']  # Assuming 'target' is the sentiment label column\n",
        "\n",
        "# # Split TF-IDF features into train and test sets\n",
        "# X_train_tfidf, X_test_tfidf, y_train, y_test = train_test_split(X_tfidf, y, test_size=0.2, random_state=42)\n",
        "\n",
        "# print(\"\\nTF-IDF Train and Test Shapes:\")\n",
        "# print(\"X_train_tfidf:\", X_train_tfidf.shape)\n",
        "# print(\"X_test_tfidf:\", X_test_tfidf.shape)\n",
        "# print(\"y_train:\", y_train.shape)\n",
        "# print(\"y_test:\", y_test.shape)\n",
        "\n",
        "# # Alternatively, if using Word Embeddings, split the padded sequences\n",
        "# X_embeddings = padded_sequences\n",
        "\n",
        "# # Split embedding sequences into train and test sets\n",
        "# X_train_embeddings, X_test_embeddings, y_train_embed, y_test_embed = train_test_split(X_embeddings, y, test_size=0.2, random_state=42)\n",
        "\n",
        "# print(\"\\nEmbedding Train and Test Shapes:\")\n",
        "# print(\"X_train_embeddings:\", X_train_embeddings.shape)\n",
        "# print(\"X_test_embeddings:\", X_test_embeddings.shape)\n",
        "# print(\"y_train_embed:\", y_train_embed.shape)\n",
        "# print(\"y_test_embed:\", y_test_embed.shape)"
      ],
      "metadata": {
        "id": "7ng-TlSKjeKC"
      },
      "execution_count": null,
      "outputs": []
    },
    {
      "cell_type": "code",
      "source": [
        "# import pandas as pd\n",
        "# from sklearn.model_selection import train_test_split\n",
        "# from sklearn.feature_extraction.text import TfidfVectorizer\n",
        "# from tensorflow.keras.preprocessing.text import Tokenizer\n",
        "# from tensorflow.keras.preprocessing.sequence import pad_sequences\n",
        "# import numpy as np\n",
        "# import gc\n",
        "\n",
        "# # Load a subset of the data for testing (e.g., 20%)\n",
        "# file_path = '/content/drive/My Drive/Dataset/tweets.csv'\n",
        "# df = pd.read_csv(file_path, encoding='latin-1', header=None)\n",
        "# df.columns = ['target', 'id', 'date', 'flag', 'user', 'text']\n",
        "\n",
        "# # --- TF-IDF Vectorization ---\n",
        "# # Limit features to top 1000 terms to reduce memory usage\n",
        "# tfidf_vectorizer = TfidfVectorizer(max_features=1000)\n",
        "# tfidf_features = tfidf_vectorizer.fit_transform(df_sample['text'])  # Keep as sparse matrix"
      ],
      "metadata": {
        "id": "TYYfOuARFoC1"
      },
      "execution_count": null,
      "outputs": []
    },
    {
      "cell_type": "code",
      "source": [
        "# # Sample 20% of the data\n",
        "# df_sample = df.sample(frac=0.2, random_state=42)\n",
        "# print(\"Sample Data Shape:\", df_sample.shape)\n",
        "\n",
        "# # Define target labels\n",
        "# y_sample = df_sample['target']\n",
        "\n",
        "# # Split TF-IDF features into train and test sets (keeping sparse format)\n",
        "# X_train_tfidf, X_test_tfidf, y_train, y_test = train_test_split(tfidf_features, y_sample, test_size=0.2, random_state=42)\n",
        "\n",
        "# print(\"\\nTF-IDF Train and Test Shapes:\")\n",
        "# print(\"X_train_tfidf:\", X_train_tfidf.shape)\n",
        "# print(\"X_test_tfidf:\", X_test_tfidf.shape)\n",
        "# print(\"y_train:\", y_train.shape)\n",
        "# print(\"y_test:\", y_test.shape)\n",
        "\n",
        "# # --- Word Embeddings (Using GloVe) ---\n",
        "# # Tokenizer settings for embedding-based models\n",
        "# tokenizer = Tokenizer(num_words=5000)  # Limit vocabulary to top 5000 words\n",
        "# tokenizer.fit_on_texts(df_sample['text'])\n",
        "# sequences = tokenizer.texts_to_sequences(df_sample['text'])\n",
        "\n",
        "# # Pad sequences to a shorter length (e.g., 50)\n",
        "# padded_sequences = pad_sequences(sequences, maxlen=50)\n",
        "\n",
        "# # Split embedding sequences into train and test sets\n",
        "# X_train_embeddings, X_test_embeddings, y_train_embed, y_test_embed = train_test_split(padded_sequences, y_sample, test_size=0.2, random_state=42)\n",
        "\n",
        "# print(\"\\nEmbedding Train and Test Shapes:\")\n",
        "# print(\"X_train_embeddings:\", X_train_embeddings.shape)\n",
        "# print(\"X_test_embeddings:\", X_test_embeddings.shape)\n",
        "# print(\"y_train_embed:\", y_train_embed.shape)\n",
        "# print(\"y_test_embed:\", y_test_embed.shape)\n",
        "\n",
        "# # Free up memory by deleting large objects\n",
        "# del df, df_sample, tfidf_features, sequences\n",
        "# gc.collect()\n"
      ],
      "metadata": {
        "id": "mb1B4SSzJame"
      },
      "execution_count": null,
      "outputs": []
    },
    {
      "cell_type": "code",
      "source": [
        "import gc\n",
        "\n",
        "# Define target labels\n",
        "y = df['target']\n",
        "\n",
        "# Split TF-IDF features into train and test sets (keeping sparse format)\n",
        "X_train_tfidf, X_test_tfidf, y_train, y_test = train_test_split(tfidf_features, y, test_size=0.2, random_state=42)\n",
        "\n",
        "print(\"\\nTF-IDF Train and Test Shapes:\")\n",
        "print(\"X_train_tfidf:\", X_train_tfidf.shape)\n",
        "print(\"X_test_tfidf:\", X_test_tfidf.shape)\n",
        "print(\"y_train:\", y_train.shape)\n",
        "print(\"y_test:\", y_test.shape)\n",
        "\n",
        "# --- Word Embeddings (Using GloVe) ---\n",
        "# Tokenizer settings for embedding-based models\n",
        "tokenizer = Tokenizer(num_words=5000)  # Limit vocabulary to top 5000 words\n",
        "tokenizer.fit_on_texts(df['text'])\n",
        "sequences = tokenizer.texts_to_sequences(df['text'])\n",
        "\n",
        "# Pad sequences to a specified length (e.g., 100)\n",
        "padded_sequences = pad_sequences(sequences, maxlen=100)\n",
        "\n",
        "# Split embedding sequences into train and test sets\n",
        "X_train_embeddings, X_test_embeddings, y_train_embed, y_test_embed = train_test_split(padded_sequences, y, test_size=0.2, random_state=42)\n",
        "\n",
        "print(\"\\nEmbedding Train and Test Shapes:\")\n",
        "print(\"X_train_embeddings:\", X_train_embeddings.shape)\n",
        "print(\"X_test_embeddings:\", X_test_embeddings.shape)\n",
        "print(\"y_train_embed:\", y_train_embed.shape)\n",
        "print(\"y_test_embed:\", y_test_embed.shape)\n",
        "\n",
        "# Free up memory by deleting large objects not in use\n",
        "del sequences, df['text'], tfidf_features\n",
        "gc.collect()\n"
      ],
      "metadata": {
        "id": "bA1DU88qLgx1",
        "colab": {
          "base_uri": "https://localhost:8080/"
        },
        "outputId": "9eded942-db75-4545-ac6a-093a40cb06e6"
      },
      "execution_count": null,
      "outputs": [
        {
          "output_type": "stream",
          "name": "stdout",
          "text": [
            "\n",
            "TF-IDF Train and Test Shapes:\n",
            "X_train_tfidf: (1280000, 5000)\n",
            "X_test_tfidf: (320000, 5000)\n",
            "y_train: (1280000,)\n",
            "y_test: (320000,)\n",
            "\n",
            "Embedding Train and Test Shapes:\n",
            "X_train_embeddings: (1280000, 100)\n",
            "X_test_embeddings: (320000, 100)\n",
            "y_train_embed: (1280000,)\n",
            "y_test_embed: (320000,)\n"
          ]
        },
        {
          "output_type": "execute_result",
          "data": {
            "text/plain": [
              "0"
            ]
          },
          "metadata": {},
          "execution_count": 9
        }
      ]
    },
    {
      "cell_type": "code",
      "source": [
        "# Import the LinearSVC model from scikit-learn\n",
        "from sklearn.svm import LinearSVC\n",
        "from sklearn.metrics import accuracy_score, classification_report, confusion_matrix\n",
        "\n",
        "# Initialize the LinearSVC model with a specified regularization parameter C\n",
        "# The C parameter controls the regularization strength\n",
        "# Higher values of C lead to less regularization, while lower values increase regularization\n",
        "svm = LinearSVC(C=1.0, random_state=42)  # Adjust C if needed\n",
        "\n",
        "# Train the model on the training data\n",
        "# This step fits the SVM model using the TF-IDF features and the target labels\n",
        "print(\"Training the SVM model...\")\n",
        "svm.fit(X_train_tfidf, y_train)\n",
        "\n",
        "# After training, we can evaluate the model on the test data\n",
        "# Make predictions on the test set\n",
        "y_pred = svm.predict(X_test_tfidf)\n",
        "\n",
        "# Calculate accuracy of the model on the test set\n",
        "accuracy = accuracy_score(y_test, y_pred)\n",
        "print(\"SVM Model Accuracy on Test Set:\", accuracy)\n",
        "\n",
        "# Generate a detailed classification report\n",
        "# This includes precision, recall, and F1-score for each class\n",
        "print(\"\\nClassification Report:\\n\", classification_report(y_test, y_pred))\n",
        "\n",
        "# Compute and display the confusion matrix\n",
        "# This helps us understand the number of correct and incorrect predictions for each class\n",
        "conf_matrix = confusion_matrix(y_test, y_pred)\n",
        "print(\"\\nConfusion Matrix:\\n\", conf_matrix)"
      ],
      "metadata": {
        "id": "wMGLFdZON7h9",
        "colab": {
          "base_uri": "https://localhost:8080/"
        },
        "outputId": "cb89f5fe-12d7-4d93-d297-6ccc236541c8"
      },
      "execution_count": null,
      "outputs": [
        {
          "output_type": "stream",
          "name": "stdout",
          "text": [
            "Training the SVM model...\n",
            "SVM Model Accuracy on Test Set: 0.767259375\n",
            "\n",
            "Classification Report:\n",
            "               precision    recall  f1-score   support\n",
            "\n",
            "           0       0.78      0.74      0.76    159494\n",
            "           4       0.75      0.79      0.77    160506\n",
            "\n",
            "    accuracy                           0.77    320000\n",
            "   macro avg       0.77      0.77      0.77    320000\n",
            "weighted avg       0.77      0.77      0.77    320000\n",
            "\n",
            "\n",
            "Confusion Matrix:\n",
            " [[118050  41444]\n",
            " [ 33033 127473]]\n"
          ]
        }
      ]
    },
    {
      "cell_type": "code",
      "source": [
        "# Print SVM Model Accuracy on Test Set\n",
        "print(f\"\\nSVM Model Accuracy on Test Set: {accuracy:.2%}\")\n",
        "\n",
        "# Detailed classification report\n",
        "from sklearn.metrics import classification_report\n",
        "classification_report_str = classification_report(y_test, y_pred, target_names=['Negative', 'Positive'])\n",
        "print(\"\\nClassification Report:\\n\")\n",
        "print(classification_report_str)\n",
        "\n",
        "# Confusion Matrix with Labels\n",
        "import pandas as pd\n",
        "import seaborn as sns\n",
        "import matplotlib.pyplot as plt\n",
        "from sklearn.metrics import confusion_matrix\n",
        "\n",
        "conf_matrix = confusion_matrix(y_test, y_pred)\n",
        "conf_matrix_df = pd.DataFrame(conf_matrix, index=['Negative', 'Positive'], columns=['Predicted Negative', 'Predicted Positive'])\n",
        "\n",
        "print(\"\\nConfusion Matrix:\\n\")\n",
        "print(conf_matrix_df)\n",
        "\n",
        "# Plot Confusion Matrix\n",
        "plt.figure(figsize=(8, 6))\n",
        "sns.heatmap(conf_matrix_df, annot=True, fmt='g', cmap='Blues')\n",
        "plt.title(\"Confusion Matrix for SVM Model\")\n",
        "plt.xlabel(\"Predicted Labels\")\n",
        "plt.ylabel(\"True Labels\")\n",
        "plt.show()\n"
      ],
      "metadata": {
        "id": "u6yA6iTXWdGE",
        "colab": {
          "base_uri": "https://localhost:8080/",
          "height": 929
        },
        "outputId": "dfedb4fe-538b-477a-c478-62abae94eb6b"
      },
      "execution_count": null,
      "outputs": [
        {
          "output_type": "stream",
          "name": "stdout",
          "text": [
            "\n",
            "SVM Model Accuracy on Test Set: 76.73%\n",
            "\n",
            "Classification Report:\n",
            "\n",
            "              precision    recall  f1-score   support\n",
            "\n",
            "    Negative       0.78      0.74      0.76    159494\n",
            "    Positive       0.75      0.79      0.77    160506\n",
            "\n",
            "    accuracy                           0.77    320000\n",
            "   macro avg       0.77      0.77      0.77    320000\n",
            "weighted avg       0.77      0.77      0.77    320000\n",
            "\n",
            "\n",
            "Confusion Matrix:\n",
            "\n",
            "          Predicted Negative  Predicted Positive\n",
            "Negative              118050               41444\n",
            "Positive               33033              127473\n"
          ]
        },
        {
          "output_type": "display_data",
          "data": {
            "text/plain": [
              "<Figure size 800x600 with 2 Axes>"
            ],
            "image/png": "[encoded data removed]"
          },
          "metadata": {}
        }
      ]
    },
    {
      "cell_type": "code",
      "source": [
        "from sklearn.model_selection import GridSearchCV\n",
        "\n",
        "# Define the parameter grid\n",
        "param_grid = {'C': [0.1, 0.5, 1, 5, 10]}\n",
        "grid_search = GridSearchCV(LinearSVC(random_state=42), param_grid, cv=3, scoring='accuracy')\n",
        "\n",
        "# Fit the grid search on the training data\n",
        "print(\"Performing hyperparameter tuning...\")\n",
        "grid_search.fit(X_train_tfidf, y_train)\n",
        "\n",
        "# Get the best parameter and score\n",
        "print(\"Best parameter (C):\", grid_search.best_params_['C'])\n",
        "print(\"Best cross-validation accuracy:\", grid_search.best_score_)\n",
        "\n",
        "# Update the model with the best found parameter\n",
        "svm = grid_search.best_estimator_\n"
      ],
      "metadata": {
        "id": "8_DxCU1MXxU9",
        "colab": {
          "base_uri": "https://localhost:8080/"
        },
        "outputId": "5da68a03-d12e-4b20-83fb-d5c66de4f660"
      },
      "execution_count": null,
      "outputs": [
        {
          "output_type": "stream",
          "name": "stdout",
          "text": [
            "Performing hyperparameter tuning...\n",
            "Best parameter (C): 0.1\n",
            "Best cross-validation accuracy: 0.7668382810635581\n"
          ]
        }
      ]
    },
    {
      "cell_type": "code",
      "source": [
        "from sklearn.model_selection import cross_val_score\n",
        "\n",
        "# Perform cross-validation and calculate the mean accuracy\n",
        "cv_scores = cross_val_score(svm, X_train_tfidf, y_train, cv=5, scoring='accuracy')\n",
        "print(\"Cross-Validation Accuracy Scores:\", cv_scores)\n",
        "print(\"Mean Cross-Validation Accuracy:\", cv_scores.mean())"
      ],
      "metadata": {
        "id": "XXJbM-Y8Ypq-",
        "colab": {
          "base_uri": "https://localhost:8080/"
        },
        "outputId": "af4eb388-b3e7-41f2-c121-c1cbe5b5f088"
      },
      "execution_count": null,
      "outputs": [
        {
          "output_type": "stream",
          "name": "stdout",
          "text": [
            "Cross-Validation Accuracy Scores: [0.76726562 0.7669375  0.7668125  0.76684375 0.76760938]\n",
            "Mean Cross-Validation Accuracy: 0.76709375\n"
          ]
        }
      ]
    },
    {
      "cell_type": "code",
      "source": [
        "# Check column names to confirm where the original text is stored\n",
        "print(\"Columns in DataFrame:\", df.columns)\n",
        "\n",
        "# Ensure the correct column name for original text\n",
        "if 'text' in df.columns:\n",
        "    text_column = 'text'\n",
        "elif 'cleaned_text' in df.columns:  # Use cleaned text if available\n",
        "    text_column = 'cleaned_text'\n",
        "else:\n",
        "    raise KeyError(\"No suitable column for text found in the DataFrame. Check column names.\")\n",
        "\n",
        "# Align original text with test labels\n",
        "X_test_original = df.loc[y_test.index, text_column]\n",
        "\n",
        "# Extract misclassified indices\n",
        "misclassified_indices = (y_test != y_pred)\n",
        "\n",
        "# Extract misclassified samples\n",
        "misclassified_samples = X_test_original[misclassified_indices]\n",
        "misclassified_labels = y_test[misclassified_indices]\n",
        "predicted_labels = y_pred[misclassified_indices]\n",
        "\n",
        "# Combine into a DataFrame for review\n",
        "misclassified_df = pd.DataFrame({\n",
        "    'Text': misclassified_samples,\n",
        "    'True Label': misclassified_labels,\n",
        "    'Predicted Label': predicted_labels\n",
        "})\n",
        "\n",
        "# Display some examples\n",
        "print(\"\\nExamples of Misclassified Tweets:\")\n",
        "print(misclassified_df.head(10))\n"
      ],
      "metadata": {
        "id": "4fUTFKA2a3jc",
        "colab": {
          "base_uri": "https://localhost:8080/"
        },
        "outputId": "084d432e-360a-4245-8c3e-23c23df47005"
      },
      "execution_count": null,
      "outputs": [
        {
          "output_type": "stream",
          "name": "stdout",
          "text": [
            "Columns in DataFrame: Index(['target', 'id', 'date', 'flag', 'user', 'cleaned_text',\n",
            "       'text_sequences'],\n",
            "      dtype='object')\n",
            "\n",
            "Examples of Misclassified Tweets:\n",
            "                                                      Text  True Label  \\\n",
            "541200                           chrishasboob ahhh hope ok           0   \n",
            "750                    misstoriblack cool tweet app razr 2           0   \n",
            "766711   tiannachao know famili drama lame hey next tim...           0   \n",
            "705995                                upper airway problem           0   \n",
            "1380171        perezhilton zach make pee sit grown gay man           4   \n",
            "820010   lilpecan oh realli great small blizzard also c...           4   \n",
            "1586084  feel quit sleepi today wish could stay bed tod...           4   \n",
            "171708                            day pass slowli day rawr           0   \n",
            "305246   rocdoogi admit mayb feel better tomorrow yo 4 ...           0   \n",
            "1541646                                   get ex back work           4   \n",
            "\n",
            "         Predicted Label  \n",
            "541200                 4  \n",
            "750                    4  \n",
            "766711                 4  \n",
            "705995                 4  \n",
            "1380171                0  \n",
            "820010                 0  \n",
            "1586084                0  \n",
            "171708                 4  \n",
            "305246                 4  \n",
            "1541646                0  \n"
          ]
        }
      ]
    },
    {
      "cell_type": "code",
      "source": [
        "from sklearn.model_selection import learning_curve\n",
        "import matplotlib.pyplot as plt\n",
        "import numpy as np\n",
        "import scipy.sparse as sp\n",
        "\n",
        "# Optional: Subsample the data for faster computation\n",
        "subsample_ratio = 0.2  # Use 20% of the data for learning curves\n",
        "subsample_size = int(len(y_train) * subsample_ratio)\n",
        "\n",
        "# Randomly select a subset of the training data\n",
        "indices = np.random.choice(X_train_tfidf.shape[0], subsample_size, replace=False)\n",
        "X_train_subsample = X_train_tfidf[indices]\n",
        "y_train_subsample = np.array(y_train)[indices]\n",
        "\n",
        "# Reduce train_sizes for efficient computation\n",
        "train_sizes = np.linspace(0.1, 1.0, 6)  # Fewer points for learning curve\n",
        "\n",
        "# Calculate learning curves\n",
        "train_sizes, train_scores, test_scores = learning_curve(\n",
        "    svm, X_train_subsample, y_train_subsample, cv=5, scoring='accuracy', n_jobs=-1,\n",
        "    train_sizes=train_sizes\n",
        ")\n",
        "\n",
        "# Calculate mean and standard deviation for training and test scores\n",
        "train_mean = np.mean(train_scores, axis=1)\n",
        "train_std = np.std(train_scores, axis=1)\n",
        "test_mean = np.mean(test_scores, axis=1)\n",
        "test_std = np.std(test_scores, axis=1)\n",
        "\n",
        "# Plot learning curves\n",
        "plt.figure(figsize=(10, 6))\n",
        "plt.plot(train_sizes, train_mean, label='Training score', color='blue', marker='o')\n",
        "plt.plot(train_sizes, test_mean, label='Cross-validation score', color='green', marker='o')\n",
        "plt.fill_between(train_sizes, train_mean - train_std, train_mean + train_std, alpha=0.1, color='blue')\n",
        "plt.fill_between(train_sizes, test_mean - test_std, test_mean + test_std, alpha=0.1, color='green')\n",
        "plt.xlabel(\"Training Set Size\")\n",
        "plt.ylabel(\"Accuracy\")\n",
        "plt.title(\"Learning Curves for SVM (Optimized)\")\n",
        "plt.legend(loc=\"best\")\n",
        "plt.grid()\n",
        "plt.show()\n"
      ],
      "metadata": {
        "id": "pgNLmefTcISm",
        "colab": {
          "base_uri": "https://localhost:8080/",
          "height": 564
        },
        "outputId": "9507d771-e3c3-4b16-ed10-43c268635476"
      },
      "execution_count": null,
      "outputs": [
        {
          "output_type": "display_data",
          "data": {
            "text/plain": [
              "<Figure size 1000x600 with 1 Axes>"
            ],
            "image/png": "[encoded data removed]"
          },
          "metadata": {}
        }
      ]
    }
  ]
}